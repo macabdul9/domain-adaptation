{
 "cells": [
  {
   "cell_type": "code",
   "execution_count": 83,
   "metadata": {},
   "outputs": [],
   "source": [
    "import pandas as pd \n",
    "import numpy as np\n",
    "import os\n"
   ]
  },
  {
   "cell_type": "code",
   "execution_count": 84,
   "metadata": {},
   "outputs": [],
   "source": [
    "# we only need positive and negatice reviews \n",
    "root = \"./data/amazon-review/\"\n",
    "files = [\"positive.review\", \"negative.review\"]\n",
    "             "
   ]
  },
  {
   "cell_type": "code",
   "execution_count": 85,
   "metadata": {},
   "outputs": [],
   "source": [
    "# iterate over subdirs (domains)\n",
    "for domain in os.listdir(root):\n",
    "    # iterate through both classes\n",
    "    data = {\n",
    "            \"product_type\":[],\n",
    "            \"helpful\":[],\n",
    "            \"rating\":[],\n",
    "            \"title\":[],\n",
    "            \"review_text\":[]\n",
    "    }\n",
    "    for file in files:\n",
    "        text = open(os.path.join(root, domain, file)).read().splitlines()\n",
    "        # each line is a tag or value\n",
    "        for line in range(len(text)-1):\n",
    "            if text[line][1:-1] in data.keys(): # [1:-1] to skim the \"<\" and \">\" \n",
    "                data[text[line][1:-1]].append(text[line+1])\n",
    "                    \n",
    "    df = pd.DataFrame(data=data, index=None)\n",
    "    df['sentiment'] = np.where(df.rating.astype(float) > 3, 1, 0)\n",
    "    df.to_csv(os.path.join(root, domain, domain+\".csv\"), index=False)\n",
    "#     df.to_csv(domain+\".csv\", index=False)"
   ]
  },
  {
   "cell_type": "code",
   "execution_count": null,
   "metadata": {},
   "outputs": [],
   "source": []
  },
  {
   "cell_type": "code",
   "execution_count": null,
   "metadata": {},
   "outputs": [],
   "source": []
  },
  {
   "cell_type": "code",
   "execution_count": null,
   "metadata": {},
   "outputs": [],
   "source": []
  },
  {
   "cell_type": "code",
   "execution_count": null,
   "metadata": {},
   "outputs": [],
   "source": []
  },
  {
   "cell_type": "code",
   "execution_count": null,
   "metadata": {},
   "outputs": [],
   "source": []
  },
  {
   "cell_type": "code",
   "execution_count": null,
   "metadata": {},
   "outputs": [],
   "source": []
  }
 ],
 "metadata": {
  "kernelspec": {
   "display_name": "Python 3.7.6 64-bit ('base': conda)",
   "language": "python",
   "name": "python37664bitbaseconda1b4d65181bfe435290e55078ed6e0090"
  },
  "language_info": {
   "codemirror_mode": {
    "name": "ipython",
    "version": 3
   },
   "file_extension": ".py",
   "mimetype": "text/x-python",
   "name": "python",
   "nbconvert_exporter": "python",
   "pygments_lexer": "ipython3",
   "version": "3.7.6"
  }
 },
 "nbformat": 4,
 "nbformat_minor": 4
}
