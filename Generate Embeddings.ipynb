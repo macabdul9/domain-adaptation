{
 "cells": [
  {
   "cell_type": "code",
   "execution_count": null,
   "metadata": {},
   "outputs": [],
   "source": [
    "from datasets import load_dataset\n",
    "import torch\n",
    "from transformers import BertTokenizerFast, BertModel, BertConfig\n",
    "import numpy as np\n",
    "import pandas as pd\n",
    "from tqdm.notebook import tqdm as tqdm\n",
    "import glob\n",
    "import os"
   ]
  },
  {
   "cell_type": "code",
   "execution_count": null,
   "metadata": {},
   "outputs": [],
   "source": [
    "tokenizer = BertTokenizerFast.from_pretrained('bert-base-uncased', use_lower_case=True)\n",
    "config = BertConfig.from_pretrained(\"bert-base-uncased\", output_hidden_states=True)\n",
    "model = BertModel.from_pretrained('bert-base-uncased', config=config)"
   ]
  },
  {
   "cell_type": "code",
   "execution_count": null,
   "metadata": {},
   "outputs": [],
   "source": [
    "dataset = load_dataset('imdb', split='train')"
   ]
  },
  {
   "cell_type": "code",
   "execution_count": null,
   "metadata": {},
   "outputs": [],
   "source": [
    "if(os.path.exists(\"./data\")):\n",
    "    files = glob.glob('./data/*')\n",
    "    for f in files:\n",
    "        os.remove(f)\n",
    "else:\n",
    "    os.makedirs(\"./data\")"
   ]
  },
  {
   "cell_type": "code",
   "execution_count": null,
   "metadata": {},
   "outputs": [],
   "source": [
    "batch_text = []\n",
    "dictionary_list = []\n",
    "count = 0\n",
    "\n",
    "for i in tqdm(range(len(dataset))):\n",
    "#     if(i<=500):\n",
    "        if(i%4==0):  #batch size can be increased depending on your RAM\n",
    "            batch_text.append(dataset[\"text\"][i])\n",
    "\n",
    "            encoding = tokenizer(batch_text, return_tensors='pt', padding='max_length', truncation=True, max_length=256)\n",
    "            input_ids = encoding['input_ids']\n",
    "            attention_mask = encoding['attention_mask']\n",
    "            outputs = model(input_ids, attention_mask)\n",
    "            hidden_states = outputs[2][1:]\n",
    "\n",
    "            batch_text = []\n",
    "\n",
    "            for q in range(len(hidden_states[0])):\n",
    "                for j in range(0,12):\n",
    "                    new_row = {'embeddings':hidden_states[j][q][0].cpu().detach().numpy(), 'layers': j+1}\n",
    "                    dictionary_list.append(new_row)\n",
    "            \n",
    "            dictionary_list = np.save(f\"./data/batch_{count}\", dictionary_list, allow_pickle=True)\n",
    "            dictionary_list = []\n",
    "            count += 1\n",
    "\n",
    "        else:\n",
    "            batch_text.append(dataset[\"text\"][i])"
   ]
  },
  {
   "cell_type": "code",
   "execution_count": null,
   "metadata": {},
   "outputs": [],
   "source": [
    "dictionary_list = []\n",
    "\n",
    "files = glob.glob(\"./data/*.npy\")\n",
    "\n",
    "for j in range(len(files)):\n",
    "    alpha = np.load(f\"./data/batch_{j}.npy\", allow_pickle = True)\n",
    "    for i in range(len(alpha)):\n",
    "        new_row = {'embeddings':alpha[i][\"embeddings\"], 'layers': alpha[i][\"layers\"]}\n",
    "        dictionary_list.append(new_row)"
   ]
  },
  {
   "cell_type": "code",
   "execution_count": null,
   "metadata": {},
   "outputs": [],
   "source": [
    "df = pd.DataFrame.from_dict(dictionary_list)\n",
    "df.to_pickle(\"./imdb.pkl\")"
   ]
  },
  {
   "cell_type": "code",
   "execution_count": null,
   "metadata": {},
   "outputs": [],
   "source": [
    "df.layers.unique()"
   ]
  },
  {
   "cell_type": "markdown",
   "metadata": {},
   "source": [
    "### Changes incase of converting from 12 layers to Top, Middle, and Bottom layers"
   ]
  },
  {
   "cell_type": "code",
   "execution_count": null,
   "metadata": {},
   "outputs": [],
   "source": []
  }
 ],
 "metadata": {
  "kernelspec": {
   "display_name": "Python 3",
   "language": "python",
   "name": "python3"
  },
  "language_info": {
   "codemirror_mode": {
    "name": "ipython",
    "version": 3
   },
   "file_extension": ".py",
   "mimetype": "text/x-python",
   "name": "python",
   "nbconvert_exporter": "python",
   "pygments_lexer": "ipython3",
   "version": "3.7.5"
  }
 },
 "nbformat": 4,
 "nbformat_minor": 4
}
